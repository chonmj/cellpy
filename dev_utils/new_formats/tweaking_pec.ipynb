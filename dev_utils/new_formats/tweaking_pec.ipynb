{
 "cells": [
  {
   "cell_type": "markdown",
   "metadata": {},
   "source": [
    "# PEC"
   ]
  },
  {
   "cell_type": "code",
   "execution_count": 1,
   "metadata": {},
   "outputs": [],
   "source": [
    "%load_ext autoreload\n",
    "%autoreload 2"
   ]
  },
  {
   "cell_type": "code",
   "execution_count": 1,
   "metadata": {},
   "outputs": [
    {
     "ename": "ModuleNotFoundError",
     "evalue": "No module named 'cellpy'",
     "output_type": "error",
     "traceback": [
      "\u001b[1;31m---------------------------------------------------------------------------\u001b[0m",
      "\u001b[1;31mModuleNotFoundError\u001b[0m                       Traceback (most recent call last)",
      "\u001b[1;32m<ipython-input-1-826b4b90388e>\u001b[0m in \u001b[0;36m<module>\u001b[1;34m\u001b[0m\n\u001b[0;32m      6\u001b[0m \u001b[1;32mimport\u001b[0m \u001b[0mmatplotlib\u001b[0m\u001b[1;33m.\u001b[0m\u001b[0mpyplot\u001b[0m \u001b[1;32mas\u001b[0m \u001b[0mplt\u001b[0m\u001b[1;33m\u001b[0m\u001b[1;33m\u001b[0m\u001b[0m\n\u001b[0;32m      7\u001b[0m \u001b[1;33m\u001b[0m\u001b[0m\n\u001b[1;32m----> 8\u001b[1;33m \u001b[1;32mimport\u001b[0m \u001b[0mcellpy\u001b[0m\u001b[1;33m\u001b[0m\u001b[1;33m\u001b[0m\u001b[0m\n\u001b[0m",
      "\u001b[1;31mModuleNotFoundError\u001b[0m: No module named 'cellpy'"
     ]
    }
   ],
   "source": [
    "from pathlib import Path\n",
    "import os\n",
    "\n",
    "import numpy as np\n",
    "import pandas as pd\n",
    "import matplotlib.pyplot as plt\n",
    "\n",
    "import cellpy"
   ]
  },
  {
   "cell_type": "code",
   "execution_count": 2,
   "metadata": {},
   "outputs": [
    {
     "data": {
      "text/plain": [
       "'C:\\\\Users\\\\uleri\\\\Anaconda3\\\\python.exe'"
      ]
     },
     "execution_count": 2,
     "metadata": {},
     "output_type": "execute_result"
    }
   ],
   "source": [
    "conda install -n myenv ipython\n",
    "conda activate myenv\n",
    "python -m ipykernel install --user --name myenv --display-name \"Python (myenv)\""
   ]
  },
  {
   "cell_type": "code",
   "execution_count": null,
   "metadata": {},
   "outputs": [],
   "source": [
    "# C:\\scripts\\cellpy\\dev_data\\PEC\n",
    "raw_file_path = Path('/scripts/cellpy/dev_data/PEC') / 'pec.csv'"
   ]
  },
  {
   "cell_type": "code",
   "execution_count": null,
   "metadata": {},
   "outputs": [],
   "source": [
    "raw_file_path.is_file()"
   ]
  },
  {
   "cell_type": "code",
   "execution_count": null,
   "metadata": {},
   "outputs": [],
   "source": [
    "pec = cellpy.get(instrument=\"pec_csv\", filename=raw_file_path, cycle_mode=\"cathode\", mass=50_000)"
   ]
  },
  {
   "cell_type": "code",
   "execution_count": null,
   "metadata": {},
   "outputs": [],
   "source": [
    "import holoviews as hv\n",
    "hv.extension('bokeh')"
   ]
  },
  {
   "cell_type": "code",
   "execution_count": null,
   "metadata": {},
   "outputs": [],
   "source": [
    "pec.get_cycle_numbers()"
   ]
  },
  {
   "cell_type": "code",
   "execution_count": null,
   "metadata": {},
   "outputs": [],
   "source": [
    "steptable = pec.cell.steps\n",
    "steptable.head(10)"
   ]
  },
  {
   "cell_type": "code",
   "execution_count": null,
   "metadata": {},
   "outputs": [],
   "source": [
    "summary = pec.cell.summary\n",
    "summary.head(5)"
   ]
  },
  {
   "cell_type": "code",
   "execution_count": null,
   "metadata": {},
   "outputs": [],
   "source": [
    "c, v = pec.get_dcap(1)\n"
   ]
  },
  {
   "cell_type": "code",
   "execution_count": null,
   "metadata": {},
   "outputs": [],
   "source": [
    "curve1 = hv.Scatter((c,v))\n",
    "curve1"
   ]
  },
  {
   "cell_type": "code",
   "execution_count": null,
   "metadata": {},
   "outputs": [],
   "source": [
    "from cellpy import log\n",
    "log.setup_logging(default_level=\"DEBUG\")"
   ]
  },
  {
   "cell_type": "code",
   "execution_count": null,
   "metadata": {},
   "outputs": [],
   "source": [
    "from cellpy.utils import ica"
   ]
  },
  {
   "cell_type": "code",
   "execution_count": null,
   "metadata": {},
   "outputs": [],
   "source": [
    "dv1, dq1 = ica.dqdv(\n",
    "    v, c,\n",
    ")"
   ]
  },
  {
   "cell_type": "code",
   "execution_count": null,
   "metadata": {},
   "outputs": [],
   "source": [
    "converter = ica.Converter()\n",
    "converter.pre_smoothing = False\n",
    "converter.post_smoothing = False\n",
    "converter.smoothing = False\n",
    "converter.normalise = True\n",
    "converter.voltage_fwhm = 0.01\n",
    "converter.max_points = 400\n",
    "converter.capacity_resolution = 5.0\n",
    "converter.voltage_resolution = 0.01\n",
    "converter.set_data(c, v)\n",
    "converter.inspect_data()\n",
    "converter.pre_process_data()\n",
    "converter.increment_data()\n",
    "converter.post_process_data()\n",
    "curve00 = hv.Scatter((c, v), label=\"as is\").opts(width=800, height=500)\n",
    "curve01 = hv.Scatter((converter.capacity_preprocessed, converter.voltage_preprocessed), label=\"preprocessed\").opts(width=800, height=500)\n",
    "curve00 * curve01"
   ]
  },
  {
   "cell_type": "code",
   "execution_count": null,
   "metadata": {},
   "outputs": [],
   "source": [
    "print(len(converter._voltage_processed))\n",
    "print(len(converter._incremental_capacity))\n",
    "curve1 = hv.Curve((dv1, dq1), label=\"as is\").opts(width=800, height=500)\n",
    "curve2 = hv.Curve((converter.voltage_processed, converter.incremental_capacity), label=\"new\").opts(width=800, height=500)\n",
    "curve3 = hv.Curve((converter._voltage_processed, converter._incremental_capacity), label=\"pre\").opts(width=800, height=500)\n",
    "curve4 = hv.Curve((converter.voltage_processed, converter._incremental_capacity), label=\"shifted\").opts(width=800, height=500)\n",
    "curve1 * curve2 * curve3 * curve4"
   ]
  },
  {
   "cell_type": "code",
   "execution_count": null,
   "metadata": {},
   "outputs": [],
   "source": [
    "\n",
    "dv1, dq1 = ica.dqdv(\n",
    "    v, c,\n",
    "    voltage_fwhm=0.01,\n",
    ")\n",
    "\n",
    "\n",
    "dv2, dq2 = ica.dqdv(\n",
    "    v, c,\n",
    "    voltage_fwhm=0.01,\n",
    "    max_points=200,\n",
    ")\n",
    "\n",
    "curve2 = hv.Curve((dv1, dq1), label=\"as is\").opts(width=800, height=500)\n",
    "scatter2 = hv.Curve((dv2, dq2), label=\"1000 points\").opts(width=800, height=500)\n",
    "curve2 * scatter2"
   ]
  },
  {
   "cell_type": "code",
   "execution_count": null,
   "metadata": {},
   "outputs": [],
   "source": [
    "?ica.dqdv"
   ]
  },
  {
   "cell_type": "code",
   "execution_count": null,
   "metadata": {},
   "outputs": [],
   "source": []
  }
 ],
 "metadata": {
  "kernelspec": {
   "display_name": "Python 3",
   "language": "python",
   "name": "python3"
  },
  "language_info": {
   "codemirror_mode": {
    "name": "ipython",
    "version": 3
   },
   "file_extension": ".py",
   "mimetype": "text/x-python",
   "name": "python",
   "nbconvert_exporter": "python",
   "pygments_lexer": "ipython3",
   "version": "3.7.6"
  }
 },
 "nbformat": 4,
 "nbformat_minor": 4
}
