{
 "cells": [
  {
   "cell_type": "code",
   "execution_count": null,
   "id": "e769d4ac-458c-43fb-bfc3-6c636c1d84ae",
   "metadata": {},
   "outputs": [],
   "source": [
    "from pathlib import Path\n",
    "from cellpy.utils import easyplot\n",
    "\n",
    "\n",
    "from cellpy import prms\n",
    "from cellpy.utils.batch_tools.batch_journals import LabJournal"
   ]
  },
  {
   "cell_type": "code",
   "execution_count": null,
   "id": "ca931efc-4dbb-4d08-8fa5-d6446d073c05",
   "metadata": {},
   "outputs": [],
   "source": [
    "f1 = Path(\"data/raw/20160805_test001_45_cc_01.res\")\n",
    "f2 = Path(\"data/raw/20160805_test001_45_cc_02.res\")"
   ]
  },
  {
   "cell_type": "code",
   "execution_count": null,
   "id": "ba4cb14c-ed20-4c66-be6c-868351cff1fe",
   "metadata": {},
   "outputs": [],
   "source": [
    "f1.is_file()"
   ]
  },
  {
   "cell_type": "code",
   "execution_count": null,
   "id": "3a6bb212-ef47-4123-bc5c-a590e89329cd",
   "metadata": {},
   "outputs": [],
   "source": [
    "f2.is_file()"
   ]
  },
  {
   "cell_type": "markdown",
   "id": "bc215b27-91e4-4192-b1f6-654047c9f3d6",
   "metadata": {},
   "source": [
    "# Checking standard usage"
   ]
  },
  {
   "cell_type": "code",
   "execution_count": null,
   "id": "2e6a21fa-07bc-48ef-8846-3bd55d3396dd",
   "metadata": {},
   "outputs": [],
   "source": [
    "files = [f1, f2]\n",
    "names = [f1.name, f2.name]"
   ]
  },
  {
   "cell_type": "code",
   "execution_count": null,
   "id": "2a3bef3e-6adc-402f-93b6-5c50d1e21dba",
   "metadata": {},
   "outputs": [],
   "source": [
    "ezplt = easyplot.EasyPlot(files, names, figtitle=\"Test1\")"
   ]
  },
  {
   "cell_type": "code",
   "execution_count": null,
   "id": "5f4a377b-373b-4318-bfde-c39f32bae056",
   "metadata": {},
   "outputs": [],
   "source": [
    "ezplt.plot()"
   ]
  },
  {
   "cell_type": "markdown",
   "id": "1aca4546-a757-4b08-80a6-4818d86d944c",
   "metadata": {},
   "source": [
    "### NOTE\n",
    "- easyplot crashes if nicknames are not given"
   ]
  },
  {
   "cell_type": "code",
   "execution_count": null,
   "id": "02753c33-21d1-4a4b-8bd2-e31b5bc48350",
   "metadata": {},
   "outputs": [],
   "source": [
    "easyplot.EasyPlot(files, names, figtitle=\"Test2\", galvanostatic_normalize_capacity=True, all_in_one=True, dqdv_plot=True).plot()"
   ]
  },
  {
   "cell_type": "code",
   "execution_count": null,
   "id": "c07485ad-c1bf-421c-a3ab-0b48e6aba4ff",
   "metadata": {},
   "outputs": [],
   "source": [
    "easyplot.help()"
   ]
  },
  {
   "cell_type": "markdown",
   "id": "626eac0e-a8b9-4172-bc4c-14ff664df19e",
   "metadata": {},
   "source": [
    "## Loading journal"
   ]
  },
  {
   "cell_type": "code",
   "execution_count": null,
   "id": "cf555a64-8580-4e77-9594-3a7d97ed49d5",
   "metadata": {},
   "outputs": [],
   "source": [
    "journal_file = Path(\"../../dev_data/db/test_journal.xlsx\")"
   ]
  },
  {
   "cell_type": "code",
   "execution_count": null,
   "id": "18ef08d8-48d0-49bb-8718-37036cf0ae17",
   "metadata": {},
   "outputs": [],
   "source": [
    "journal_file.is_file()"
   ]
  },
  {
   "cell_type": "code",
   "execution_count": null,
   "id": "b61f686c-6fc4-43bd-81a6-ea64c9d036e1",
   "metadata": {},
   "outputs": [],
   "source": [
    "j = LabJournal(db_reader=None)"
   ]
  },
  {
   "cell_type": "code",
   "execution_count": null,
   "id": "0902b4ab-e732-4bac-960b-7078f18c58e5",
   "metadata": {},
   "outputs": [],
   "source": [
    "j.from_file(journal_file, paginate=False)"
   ]
  },
  {
   "cell_type": "code",
   "execution_count": null,
   "id": "b2d4c4d1-5885-4361-93bb-a8e99254c766",
   "metadata": {},
   "outputs": [],
   "source": [
    "j.pages"
   ]
  },
  {
   "cell_type": "markdown",
   "id": "a1929a02-fd58-4643-a935-8f1a20a9ec13",
   "metadata": {},
   "source": [
    "### NOTE\n",
    "- should rename index to cell_name instead of filename"
   ]
  },
  {
   "cell_type": "code",
   "execution_count": null,
   "id": "4b5ddb3d-0a47-4c08-ba6e-e211d8defb73",
   "metadata": {},
   "outputs": [],
   "source": [
    "rawfiles = j.pages.raw_file_names.to_list()"
   ]
  },
  {
   "cell_type": "code",
   "execution_count": null,
   "id": "eefce352-aa98-42f5-8664-17fdce15582f",
   "metadata": {},
   "outputs": [],
   "source": [
    "names = j.pages.label.to_list()"
   ]
  },
  {
   "cell_type": "code",
   "execution_count": null,
   "id": "b1e0d31e-027a-48a1-bbdc-5d1b6d16bc23",
   "metadata": {},
   "outputs": [],
   "source": [
    "masses = j.pages.mass.to_list()"
   ]
  },
  {
   "cell_type": "code",
   "execution_count": null,
   "id": "6e090d07-1097-47d6-ac92-41d1860a5d81",
   "metadata": {},
   "outputs": [],
   "source": [
    "easyplot.EasyPlot(rawfiles, names, figtitle=\"Test3\", galvanostatic_normalize_capacity=True, all_in_one=True, dqdv_plot=True).plot()"
   ]
  },
  {
   "cell_type": "code",
   "execution_count": null,
   "id": "67c62ddc-db9f-4ed0-800f-f6a839264b17",
   "metadata": {},
   "outputs": [],
   "source": [
    "outfile = journal_file = Path(\"../../dev_data/db/test_journal.json\")"
   ]
  },
  {
   "cell_type": "code",
   "execution_count": null,
   "id": "77f9a1db-6ec1-4345-8ca5-9ba2b3a6c116",
   "metadata": {},
   "outputs": [],
   "source": [
    "j.to_file(outfile, to_project_folder=False)"
   ]
  },
  {
   "cell_type": "markdown",
   "id": "8068714e-365d-4395-a51d-11e8327a97be",
   "metadata": {},
   "source": [
    "### Note\n",
    "\n",
    "- need to implement a way to export journals to xlsx\n",
    "- maybe we also need to allow for reading meta and session from xlsx journals\n",
    "- figure out or modify easyplot so that mass and other parameters can be given to it"
   ]
  },
  {
   "cell_type": "code",
   "execution_count": null,
   "id": "ebc885f7-cb6e-4298-ba8c-2075625338f9",
   "metadata": {},
   "outputs": [],
   "source": []
  }
 ],
 "metadata": {
  "kernelspec": {
   "display_name": "cellpy",
   "language": "python",
   "name": "python3"
  },
  "language_info": {
   "codemirror_mode": {
    "name": "ipython",
    "version": 3
   },
   "file_extension": ".py",
   "mimetype": "text/x-python",
   "name": "python",
   "nbconvert_exporter": "python",
   "pygments_lexer": "ipython3",
   "version": "3.8.8"
  }
 },
 "nbformat": 4,
 "nbformat_minor": 5
}
