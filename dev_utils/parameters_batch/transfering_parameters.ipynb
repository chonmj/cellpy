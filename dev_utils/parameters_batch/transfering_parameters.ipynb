{
 "cells": [
  {
   "cell_type": "markdown",
   "id": "e4aabbfa-668d-473c-a94d-66bea79fc2c0",
   "metadata": {},
   "source": [
    "# Setting additional parameters"
   ]
  },
  {
   "cell_type": "code",
   "execution_count": 3,
   "id": "4e2ec189-1e03-4bbc-ab36-08d18deafde6",
   "metadata": {},
   "outputs": [],
   "source": [
    "%load_ext autoreload\n",
    "%autoreload 2"
   ]
  },
  {
   "cell_type": "code",
   "execution_count": 2,
   "id": "a9f2e1a4-a138-4ab7-8f2c-be64d8d81b1e",
   "metadata": {},
   "outputs": [],
   "source": [
    "from pathlib import Path\n",
    "\n",
    "import cellpy\n",
    "from cellpy import prms, prmreader\n",
    "from cellpy.utils import batch\n"
   ]
  },
  {
   "cell_type": "code",
   "execution_count": 28,
   "id": "21892456-5c30-4fdd-9ee7-173c2b69f481",
   "metadata": {},
   "outputs": [],
   "source": [
    "prmreader._read_prm_file(\"../.cellpy_prms_dev.conf\")"
   ]
  },
  {
   "cell_type": "code",
   "execution_count": 13,
   "id": "537fb94c-8530-4ba0-975a-de77975235c2",
   "metadata": {},
   "outputs": [
    {
     "name": "stdout",
     "output_type": "stream",
     "text": [
      "convenience function for listing prms\n",
      "cellpy.parameters.prms\n",
      "prm file (for current user): C:\\Users\\jepe\\.cellpy_prms_jepe.conf\n",
      "\n",
      "==================================== Paths =====================================\n",
      "{'batchfiledir': '../dev_data/batchfiles',\n",
      " 'cellpydatadir': '../dev_data/cellpy_files',\n",
      " 'db_filename': 'db.xlsx',\n",
      " 'db_path': '../dev_data/db',\n",
      " 'examplesdir': '../dev_data/examples',\n",
      " 'filelogdir': '../dev_data/logs',\n",
      " 'instrumentdir': '../dev_data/instruments',\n",
      " 'notebookdir': '../dev_data/notebooks',\n",
      " 'outdatadir': '../dev_data/out',\n",
      " 'rawdatadir': '../dev_data/raw',\n",
      " 'templatedir': '../dev_data/templates'}\n",
      "\n",
      "================================== FileNames ===================================\n",
      "{'file_name_format': 'YYYYMMDD_[NAME]EEE_CC_TT_RR'}\n",
      "\n",
      "==================================== Reader ====================================\n",
      "{'auto_dirs': True,\n",
      " 'capacity_interpolation_step': 2.0,\n",
      " 'cycle_mode': 'anode',\n",
      " 'daniel_number': 5,\n",
      " 'diagnostics': False,\n",
      " 'ensure_step_table': False,\n",
      " 'filestatuschecker': 'size',\n",
      " 'force_all': False,\n",
      " 'force_step_table_creation': True,\n",
      " 'limit_loaded_cycles': None,\n",
      " 'load_only_summary': False,\n",
      " 'select_minimal': False,\n",
      " 'sep': ';',\n",
      " 'sorted_data': True,\n",
      " 'time_interpolation_step': 10.0,\n",
      " 'use_cellpy_stat_file': False,\n",
      " 'voltage_interpolation_step': 0.01}\n",
      "\n",
      "=================================== DataSet ====================================\n",
      "{'nom_cap': 3579}\n",
      "\n",
      "====================================== Db ======================================\n",
      "{'db_data_start_row': 2,\n",
      " 'db_header_row': 0,\n",
      " 'db_search_end_row': -1,\n",
      " 'db_search_start_row': 2,\n",
      " 'db_table_name': 'db_table',\n",
      " 'db_type': 'simple_excel_reader',\n",
      " 'db_unit_row': 1}\n",
      "\n",
      "==================================== DbCols ====================================\n",
      "{'active_material': ['mass_active_material', 'float'],\n",
      " 'argument': ['argument', 'str'],\n",
      " 'batch': ['batch', 'str'],\n",
      " 'cell_name': ['cell', 'str'],\n",
      " 'cell_type': ['cell_type', 'cat'],\n",
      " 'cellpy_file_name': ['cellpy_file_name', 'str'],\n",
      " 'comment_cell': ['comment_cell', 'str'],\n",
      " 'comment_general': ['comment_general', 'str'],\n",
      " 'comment_slurry': ['comment_slurry', 'str'],\n",
      " 'exists': ['exists', 'bol'],\n",
      " 'experiment_type': ['experiment_type', 'cat'],\n",
      " 'file_name_indicator': ['file_name_indicator', 'str'],\n",
      " 'freeze': ['freeze', 'bol'],\n",
      " 'group': ['group', 'int'],\n",
      " 'id': ['id', 'int'],\n",
      " 'instrument': ['instrument', 'cat'],\n",
      " 'label': ['label', 'str'],\n",
      " 'loading': ['loading_active_material', 'float'],\n",
      " 'nom_cap': ['nominal_capacity', 'float'],\n",
      " 'project': ['project', 'str'],\n",
      " 'raw_file_names': ['raw_file_names', 'list'],\n",
      " 'selected': ['selected', 'bol'],\n",
      " 'sub_batch_01': ['b01', 'str'],\n",
      " 'sub_batch_02': ['b02', 'str'],\n",
      " 'sub_batch_03': ['b03', 'str'],\n",
      " 'sub_batch_04': ['b04', 'str'],\n",
      " 'sub_batch_05': ['b05', 'str'],\n",
      " 'sub_batch_06': ['b06', 'str'],\n",
      " 'sub_batch_07': ['b07', 'str'],\n",
      " 'total_material': ['mass_total', 'float']}\n",
      "\n",
      "================================== Materials ===================================\n",
      "{'cell_class': 'Li-Ion',\n",
      " 'default_mass': 1.0,\n",
      " 'default_material': 'silicon',\n",
      " 'default_nom_cap': 1.0}\n",
      "\n",
      "==================================== Batch =====================================\n",
      "{'backend': 'bokeh',\n",
      " 'color_style_label': 'seaborn-deep',\n",
      " 'dpi': 300,\n",
      " 'fig_extension': 'png',\n",
      " 'figure_type': 'unlimited',\n",
      " 'markersize': 4,\n",
      " 'notebook': True,\n",
      " 'summary_plot_height': 800,\n",
      " 'summary_plot_height_fractions': [0.2, 0.5, 0.3],\n",
      " 'summary_plot_width': 900,\n",
      " 'symbol_label': 'simple',\n",
      " 'template': 'standard'}\n",
      "\n",
      "\n",
      "================================= OLD-TYPE PRM =================================\n",
      "prms.Arbin:\n",
      "--------------------------------------------------------------------------------\n",
      "prms.Arbin.max_res_filesize =  150000000\n",
      "prms.Arbin.chunk_size =  None\n",
      "prms.Arbin.max_chunks =  None\n",
      "prms.Arbin.use_subprocess =  False\n",
      "prms.Arbin.detect_subprocess_need =  False\n",
      "prms.Arbin.sub_process_path =  None\n",
      "prms.Arbin.office_version =  64bit\n",
      "prms.Arbin.SQL_server =  localhost\\SQLEXPRESS\n",
      "prms.Arbin.SQL_UID =  sa\n",
      "prms.Arbin.SQL_PWD =  Changeme123\n",
      "prms.Arbin.SQL_Driver =  SQL Server\n",
      "\n",
      "\n",
      "================================= OLD-TYPE PRM =================================\n",
      "prms.Maccor:\n",
      "--------------------------------------------------------------------------------\n",
      "prms.Maccor.default_model =  one\n",
      "\n",
      "================================= Instruments ==================================\n",
      "{'Arbin': Box({'max_res_filesize': 150000000, 'chunk_size': None, 'max_chunks': None, 'use_subprocess': False, 'detect_subprocess_need': False, 'sub_process_path': None, 'office_version': '64bit', 'SQL_server': 'localhost', 'SQL_UID': None, 'SQL_PWD': None, 'SQL_Driver': 'ODBC Driver 17 for SQL Server', 'odbc_driver': None}),\n",
      " 'Maccor': Box({'default_model': 'one'}),\n",
      " 'custom_instrument_definitions_file': None,\n",
      " 'tester': 'arbin'}\n",
      "\n"
     ]
    }
   ],
   "source": [
    "prmreader.info()"
   ]
  },
  {
   "cell_type": "code",
   "execution_count": 14,
   "id": "0672a722-a776-4631-9667-33a5186e3083",
   "metadata": {},
   "outputs": [
    {
     "name": "stderr",
     "output_type": "stream",
     "text": [
      "WARNING:root:\n",
      "Could not set custom log-dir - non-existing directory\n",
      "Dir: C:\\scripting\\cellpy\\dev_utils\\dev_data\\logs\n",
      "Using current directory instead: C:\\scripting\\cellpy\\dev_utils\\parameters_batch\n"
     ]
    },
    {
     "ename": "FileNotFoundError",
     "evalue": "[Errno 2] No such file or directory: '../dev_data/db\\\\db.xlsx'",
     "output_type": "error",
     "traceback": [
      "\u001b[1;31m---------------------------------------------------------------------------\u001b[0m",
      "\u001b[1;31mFileNotFoundError\u001b[0m                         Traceback (most recent call last)",
      "Input \u001b[1;32mIn [14]\u001b[0m, in \u001b[0;36m<cell line: 1>\u001b[1;34m()\u001b[0m\n\u001b[1;32m----> 1\u001b[0m b \u001b[38;5;241m=\u001b[39m \u001b[43mbatch\u001b[49m\u001b[38;5;241;43m.\u001b[39;49m\u001b[43minit\u001b[49m\u001b[43m(\u001b[49m\u001b[43mname\u001b[49m\u001b[38;5;241;43m=\u001b[39;49m\u001b[38;5;124;43m\"\u001b[39;49m\u001b[38;5;124;43mdouble\u001b[39;49m\u001b[38;5;124;43m\"\u001b[39;49m\u001b[43m,\u001b[49m\u001b[43m \u001b[49m\u001b[43mproject\u001b[49m\u001b[38;5;241;43m=\u001b[39;49m\u001b[38;5;124;43m\"\u001b[39;49m\u001b[38;5;124;43mdev_209\u001b[39;49m\u001b[38;5;124;43m\"\u001b[39;49m\u001b[43m,\u001b[49m\u001b[43m \u001b[49m\u001b[43mbatch_col\u001b[49m\u001b[38;5;241;43m=\u001b[39;49m\u001b[38;5;124;43m\"\u001b[39;49m\u001b[38;5;124;43mb01\u001b[39;49m\u001b[38;5;124;43m\"\u001b[39;49m\u001b[43m)\u001b[49m\n",
      "File \u001b[1;32mc:\\scripting\\cellpy\\cellpy\\utils\\batch.py:810\u001b[0m, in \u001b[0;36minit\u001b[1;34m(*args, **kwargs)\u001b[0m\n\u001b[0;32m    807\u001b[0m     kwargs\u001b[38;5;241m.\u001b[39mpop(\u001b[38;5;124m\"\u001b[39m\u001b[38;5;124mdb_reader\u001b[39m\u001b[38;5;124m\"\u001b[39m, \u001b[38;5;28;01mNone\u001b[39;00m)\n\u001b[0;32m    808\u001b[0m     \u001b[38;5;28;01mreturn\u001b[39;00m Batch(\u001b[38;5;241m*\u001b[39margs, file_name\u001b[38;5;241m=\u001b[39m\u001b[38;5;28;01mNone\u001b[39;00m, db_reader\u001b[38;5;241m=\u001b[39m\u001b[38;5;28;01mNone\u001b[39;00m, frame\u001b[38;5;241m=\u001b[39mframe, \u001b[38;5;241m*\u001b[39m\u001b[38;5;241m*\u001b[39mkwargs)\n\u001b[1;32m--> 810\u001b[0m \u001b[38;5;28;01mreturn\u001b[39;00m Batch(\u001b[38;5;241m*\u001b[39margs, \u001b[38;5;241m*\u001b[39m\u001b[38;5;241m*\u001b[39mkwargs)\n",
      "File \u001b[1;32mc:\\scripting\\cellpy\\cellpy\\utils\\batch.py:98\u001b[0m, in \u001b[0;36mBatch.__init__\u001b[1;34m(self, *args, **kwargs)\u001b[0m\n\u001b[0;32m     95\u001b[0m frame \u001b[38;5;241m=\u001b[39m kwargs\u001b[38;5;241m.\u001b[39mpop(\u001b[38;5;124m\"\u001b[39m\u001b[38;5;124mframe\u001b[39m\u001b[38;5;124m\"\u001b[39m, \u001b[38;5;28;01mNone\u001b[39;00m)\n\u001b[0;32m     97\u001b[0m logging\u001b[38;5;241m.\u001b[39mdebug(\u001b[38;5;124m\"\u001b[39m\u001b[38;5;124mcreating CyclingExperiment\u001b[39m\u001b[38;5;124m\"\u001b[39m)\n\u001b[1;32m---> 98\u001b[0m \u001b[38;5;28mself\u001b[39m\u001b[38;5;241m.\u001b[39mexperiment \u001b[38;5;241m=\u001b[39m \u001b[43mCyclingExperiment\u001b[49m\u001b[43m(\u001b[49m\u001b[43mdb_reader\u001b[49m\u001b[38;5;241;43m=\u001b[39;49m\u001b[43mdb_reader\u001b[49m\u001b[43m)\u001b[49m\n\u001b[0;32m     99\u001b[0m logging\u001b[38;5;241m.\u001b[39minfo(\u001b[38;5;124m\"\u001b[39m\u001b[38;5;124mcreated CyclingExperiment\u001b[39m\u001b[38;5;124m\"\u001b[39m)\n\u001b[0;32m    101\u001b[0m \u001b[38;5;28mself\u001b[39m\u001b[38;5;241m.\u001b[39mexperiment\u001b[38;5;241m.\u001b[39mforce_cellpy \u001b[38;5;241m=\u001b[39m kwargs\u001b[38;5;241m.\u001b[39mpop(\u001b[38;5;124m\"\u001b[39m\u001b[38;5;124mforce_cellpy\u001b[39m\u001b[38;5;124m\"\u001b[39m, \u001b[38;5;28;01mFalse\u001b[39;00m)\n",
      "File \u001b[1;32mc:\\scripting\\cellpy\\cellpy\\utils\\batch_tools\\batch_experiments.py:64\u001b[0m, in \u001b[0;36mCyclingExperiment.__init__\u001b[1;34m(self, *args, **kwargs)\u001b[0m\n\u001b[0;32m     62\u001b[0m db_reader \u001b[38;5;241m=\u001b[39m kwargs\u001b[38;5;241m.\u001b[39mpop(\u001b[38;5;124m\"\u001b[39m\u001b[38;5;124mdb_reader\u001b[39m\u001b[38;5;124m\"\u001b[39m, \u001b[38;5;124m\"\u001b[39m\u001b[38;5;124mdefault\u001b[39m\u001b[38;5;124m\"\u001b[39m)\n\u001b[0;32m     63\u001b[0m \u001b[38;5;28msuper\u001b[39m()\u001b[38;5;241m.\u001b[39m\u001b[38;5;21m__init__\u001b[39m(\u001b[38;5;241m*\u001b[39margs)\n\u001b[1;32m---> 64\u001b[0m \u001b[38;5;28mself\u001b[39m\u001b[38;5;241m.\u001b[39mjournal \u001b[38;5;241m=\u001b[39m \u001b[43mLabJournal\u001b[49m\u001b[43m(\u001b[49m\u001b[43mdb_reader\u001b[49m\u001b[38;5;241;43m=\u001b[39;49m\u001b[43mdb_reader\u001b[49m\u001b[43m)\u001b[49m\n\u001b[0;32m     65\u001b[0m \u001b[38;5;28mself\u001b[39m\u001b[38;5;241m.\u001b[39merrors \u001b[38;5;241m=\u001b[39m \u001b[38;5;28mdict\u001b[39m()\n\u001b[0;32m     66\u001b[0m \u001b[38;5;28mself\u001b[39m\u001b[38;5;241m.\u001b[39mlog \u001b[38;5;241m=\u001b[39m \u001b[38;5;28mdict\u001b[39m()\n",
      "File \u001b[1;32mc:\\scripting\\cellpy\\cellpy\\utils\\batch_tools\\batch_journals.py:56\u001b[0m, in \u001b[0;36mLabJournal.__init__\u001b[1;34m(self, db_reader, engine)\u001b[0m\n\u001b[0;32m     54\u001b[0m \u001b[38;5;28msuper\u001b[39m()\u001b[38;5;241m.\u001b[39m\u001b[38;5;21m__init__\u001b[39m()\n\u001b[0;32m     55\u001b[0m \u001b[38;5;28;01mif\u001b[39;00m db_reader \u001b[38;5;241m==\u001b[39m \u001b[38;5;124m\"\u001b[39m\u001b[38;5;124mdefault\u001b[39m\u001b[38;5;124m\"\u001b[39m:\n\u001b[1;32m---> 56\u001b[0m     \u001b[38;5;28mself\u001b[39m\u001b[38;5;241m.\u001b[39mdb_reader \u001b[38;5;241m=\u001b[39m \u001b[43mdbreader\u001b[49m\u001b[38;5;241;43m.\u001b[39;49m\u001b[43mReader\u001b[49m\u001b[43m(\u001b[49m\u001b[43m)\u001b[49m\n\u001b[0;32m     57\u001b[0m     \u001b[38;5;28mself\u001b[39m\u001b[38;5;241m.\u001b[39mengine \u001b[38;5;241m=\u001b[39m simple_db_engine\n\u001b[0;32m     58\u001b[0m \u001b[38;5;28;01melse\u001b[39;00m:\n",
      "File \u001b[1;32mc:\\scripting\\cellpy\\cellpy\\readers\\dbreader.py:82\u001b[0m, in \u001b[0;36mReader.__init__\u001b[1;34m(self, db_file, db_datadir, db_datadir_processed, db_frame)\u001b[0m\n\u001b[0;32m     79\u001b[0m     \u001b[38;5;28mself\u001b[39m\u001b[38;5;241m.\u001b[39mskiprows, \u001b[38;5;28mself\u001b[39m\u001b[38;5;241m.\u001b[39mnrows \u001b[38;5;241m=\u001b[39m \u001b[38;5;28mself\u001b[39m\u001b[38;5;241m.\u001b[39m_find_out_what_rows_to_skip()\n\u001b[0;32m     80\u001b[0m     logging\u001b[38;5;241m.\u001b[39mdebug(\u001b[38;5;124m\"\u001b[39m\u001b[38;5;124mopening sheet\u001b[39m\u001b[38;5;124m\"\u001b[39m)\n\u001b[1;32m---> 82\u001b[0m     \u001b[38;5;28mself\u001b[39m\u001b[38;5;241m.\u001b[39mtable \u001b[38;5;241m=\u001b[39m \u001b[38;5;28;43mself\u001b[39;49m\u001b[38;5;241;43m.\u001b[39;49m\u001b[43m_open_sheet\u001b[49m\u001b[43m(\u001b[49m\u001b[43m)\u001b[49m\n\u001b[0;32m     84\u001b[0m logging\u001b[38;5;241m.\u001b[39mdebug(\u001b[38;5;124m\"\u001b[39m\u001b[38;5;124mgot table\u001b[39m\u001b[38;5;124m\"\u001b[39m)\n\u001b[0;32m     85\u001b[0m logging\u001b[38;5;241m.\u001b[39mdebug(\u001b[38;5;28mself\u001b[39m\u001b[38;5;241m.\u001b[39mtable)\n",
      "File \u001b[1;32mc:\\scripting\\cellpy\\cellpy\\readers\\dbreader.py:242\u001b[0m, in \u001b[0;36mReader._open_sheet\u001b[1;34m(self, dtypes_dict)\u001b[0m\n\u001b[0;32m    240\u001b[0m logging\u001b[38;5;241m.\u001b[39mdebug(\u001b[38;5;124mf\u001b[39m\u001b[38;5;124m\"\u001b[39m\u001b[38;5;124mSkipping the following rows: \u001b[39m\u001b[38;5;132;01m{\u001b[39;00mrows_to_skip\u001b[38;5;132;01m}\u001b[39;00m\u001b[38;5;124m\"\u001b[39m)\n\u001b[0;32m    241\u001b[0m logging\u001b[38;5;241m.\u001b[39mdebug(\u001b[38;5;124mf\u001b[39m\u001b[38;5;124m\"\u001b[39m\u001b[38;5;124mDeclaring the following dtyps: \u001b[39m\u001b[38;5;132;01m{\u001b[39;00mdtypes_dict\u001b[38;5;132;01m}\u001b[39;00m\u001b[38;5;124m\"\u001b[39m)\n\u001b[1;32m--> 242\u001b[0m work_book \u001b[38;5;241m=\u001b[39m \u001b[43mpd\u001b[49m\u001b[38;5;241;43m.\u001b[39;49m\u001b[43mExcelFile\u001b[49m\u001b[43m(\u001b[49m\u001b[38;5;28;43mself\u001b[39;49m\u001b[38;5;241;43m.\u001b[39;49m\u001b[43mdb_file\u001b[49m\u001b[43m,\u001b[49m\u001b[43m \u001b[49m\u001b[43mengine\u001b[49m\u001b[38;5;241;43m=\u001b[39;49m\u001b[38;5;124;43m\"\u001b[39;49m\u001b[38;5;124;43mopenpyxl\u001b[39;49m\u001b[38;5;124;43m\"\u001b[39;49m\u001b[43m)\u001b[49m\n\u001b[0;32m    243\u001b[0m \u001b[38;5;28;01mtry\u001b[39;00m:\n\u001b[0;32m    244\u001b[0m     sheet \u001b[38;5;241m=\u001b[39m work_book\u001b[38;5;241m.\u001b[39mparse(\n\u001b[0;32m    245\u001b[0m         table_name,\n\u001b[0;32m    246\u001b[0m         header\u001b[38;5;241m=\u001b[39mheader_row,\n\u001b[1;32m   (...)\u001b[0m\n\u001b[0;32m    249\u001b[0m         nrows\u001b[38;5;241m=\u001b[39mnrows,\n\u001b[0;32m    250\u001b[0m     )\n",
      "File \u001b[1;32m~\\Miniconda3\\envs\\cellpy\\lib\\site-packages\\pandas\\io\\excel\\_base.py:1419\u001b[0m, in \u001b[0;36mExcelFile.__init__\u001b[1;34m(self, path_or_buffer, engine, storage_options)\u001b[0m\n\u001b[0;32m   1416\u001b[0m \u001b[38;5;28mself\u001b[39m\u001b[38;5;241m.\u001b[39mengine \u001b[38;5;241m=\u001b[39m engine\n\u001b[0;32m   1417\u001b[0m \u001b[38;5;28mself\u001b[39m\u001b[38;5;241m.\u001b[39mstorage_options \u001b[38;5;241m=\u001b[39m storage_options\n\u001b[1;32m-> 1419\u001b[0m \u001b[38;5;28mself\u001b[39m\u001b[38;5;241m.\u001b[39m_reader \u001b[38;5;241m=\u001b[39m \u001b[38;5;28;43mself\u001b[39;49m\u001b[38;5;241;43m.\u001b[39;49m\u001b[43m_engines\u001b[49m\u001b[43m[\u001b[49m\u001b[43mengine\u001b[49m\u001b[43m]\u001b[49m\u001b[43m(\u001b[49m\u001b[38;5;28;43mself\u001b[39;49m\u001b[38;5;241;43m.\u001b[39;49m\u001b[43m_io\u001b[49m\u001b[43m,\u001b[49m\u001b[43m \u001b[49m\u001b[43mstorage_options\u001b[49m\u001b[38;5;241;43m=\u001b[39;49m\u001b[43mstorage_options\u001b[49m\u001b[43m)\u001b[49m\n",
      "File \u001b[1;32m~\\Miniconda3\\envs\\cellpy\\lib\\site-packages\\pandas\\io\\excel\\_openpyxl.py:525\u001b[0m, in \u001b[0;36mOpenpyxlReader.__init__\u001b[1;34m(self, filepath_or_buffer, storage_options)\u001b[0m\n\u001b[0;32m    514\u001b[0m \u001b[38;5;124;03m\"\"\"\u001b[39;00m\n\u001b[0;32m    515\u001b[0m \u001b[38;5;124;03mReader using openpyxl engine.\u001b[39;00m\n\u001b[0;32m    516\u001b[0m \n\u001b[1;32m   (...)\u001b[0m\n\u001b[0;32m    522\u001b[0m \u001b[38;5;124;03m    passed to fsspec for appropriate URLs (see ``_get_filepath_or_buffer``)\u001b[39;00m\n\u001b[0;32m    523\u001b[0m \u001b[38;5;124;03m\"\"\"\u001b[39;00m\n\u001b[0;32m    524\u001b[0m import_optional_dependency(\u001b[38;5;124m\"\u001b[39m\u001b[38;5;124mopenpyxl\u001b[39m\u001b[38;5;124m\"\u001b[39m)\n\u001b[1;32m--> 525\u001b[0m \u001b[38;5;28;43msuper\u001b[39;49m\u001b[43m(\u001b[49m\u001b[43m)\u001b[49m\u001b[38;5;241;43m.\u001b[39;49m\u001b[38;5;21;43m__init__\u001b[39;49m\u001b[43m(\u001b[49m\u001b[43mfilepath_or_buffer\u001b[49m\u001b[43m,\u001b[49m\u001b[43m \u001b[49m\u001b[43mstorage_options\u001b[49m\u001b[38;5;241;43m=\u001b[39;49m\u001b[43mstorage_options\u001b[49m\u001b[43m)\u001b[49m\n",
      "File \u001b[1;32m~\\Miniconda3\\envs\\cellpy\\lib\\site-packages\\pandas\\io\\excel\\_base.py:508\u001b[0m, in \u001b[0;36mBaseExcelReader.__init__\u001b[1;34m(self, filepath_or_buffer, storage_options)\u001b[0m\n\u001b[0;32m    504\u001b[0m \u001b[38;5;28mself\u001b[39m\u001b[38;5;241m.\u001b[39mhandles \u001b[38;5;241m=\u001b[39m IOHandles(\n\u001b[0;32m    505\u001b[0m     handle\u001b[38;5;241m=\u001b[39mfilepath_or_buffer, compression\u001b[38;5;241m=\u001b[39m{\u001b[38;5;124m\"\u001b[39m\u001b[38;5;124mmethod\u001b[39m\u001b[38;5;124m\"\u001b[39m: \u001b[38;5;28;01mNone\u001b[39;00m}\n\u001b[0;32m    506\u001b[0m )\n\u001b[0;32m    507\u001b[0m \u001b[38;5;28;01mif\u001b[39;00m \u001b[38;5;129;01mnot\u001b[39;00m \u001b[38;5;28misinstance\u001b[39m(filepath_or_buffer, (ExcelFile, \u001b[38;5;28mself\u001b[39m\u001b[38;5;241m.\u001b[39m_workbook_class)):\n\u001b[1;32m--> 508\u001b[0m     \u001b[38;5;28mself\u001b[39m\u001b[38;5;241m.\u001b[39mhandles \u001b[38;5;241m=\u001b[39m \u001b[43mget_handle\u001b[49m\u001b[43m(\u001b[49m\n\u001b[0;32m    509\u001b[0m \u001b[43m        \u001b[49m\u001b[43mfilepath_or_buffer\u001b[49m\u001b[43m,\u001b[49m\u001b[43m \u001b[49m\u001b[38;5;124;43m\"\u001b[39;49m\u001b[38;5;124;43mrb\u001b[39;49m\u001b[38;5;124;43m\"\u001b[39;49m\u001b[43m,\u001b[49m\u001b[43m \u001b[49m\u001b[43mstorage_options\u001b[49m\u001b[38;5;241;43m=\u001b[39;49m\u001b[43mstorage_options\u001b[49m\u001b[43m,\u001b[49m\u001b[43m \u001b[49m\u001b[43mis_text\u001b[49m\u001b[38;5;241;43m=\u001b[39;49m\u001b[38;5;28;43;01mFalse\u001b[39;49;00m\n\u001b[0;32m    510\u001b[0m \u001b[43m    \u001b[49m\u001b[43m)\u001b[49m\n\u001b[0;32m    512\u001b[0m \u001b[38;5;28;01mif\u001b[39;00m \u001b[38;5;28misinstance\u001b[39m(\u001b[38;5;28mself\u001b[39m\u001b[38;5;241m.\u001b[39mhandles\u001b[38;5;241m.\u001b[39mhandle, \u001b[38;5;28mself\u001b[39m\u001b[38;5;241m.\u001b[39m_workbook_class):\n\u001b[0;32m    513\u001b[0m     \u001b[38;5;28mself\u001b[39m\u001b[38;5;241m.\u001b[39mbook \u001b[38;5;241m=\u001b[39m \u001b[38;5;28mself\u001b[39m\u001b[38;5;241m.\u001b[39mhandles\u001b[38;5;241m.\u001b[39mhandle\n",
      "File \u001b[1;32m~\\Miniconda3\\envs\\cellpy\\lib\\site-packages\\pandas\\io\\common.py:798\u001b[0m, in \u001b[0;36mget_handle\u001b[1;34m(path_or_buf, mode, encoding, compression, memory_map, is_text, errors, storage_options)\u001b[0m\n\u001b[0;32m    789\u001b[0m         handle \u001b[38;5;241m=\u001b[39m \u001b[38;5;28mopen\u001b[39m(\n\u001b[0;32m    790\u001b[0m             handle,\n\u001b[0;32m    791\u001b[0m             ioargs\u001b[38;5;241m.\u001b[39mmode,\n\u001b[1;32m   (...)\u001b[0m\n\u001b[0;32m    794\u001b[0m             newline\u001b[38;5;241m=\u001b[39m\u001b[38;5;124m\"\u001b[39m\u001b[38;5;124m\"\u001b[39m,\n\u001b[0;32m    795\u001b[0m         )\n\u001b[0;32m    796\u001b[0m     \u001b[38;5;28;01melse\u001b[39;00m:\n\u001b[0;32m    797\u001b[0m         \u001b[38;5;66;03m# Binary mode\u001b[39;00m\n\u001b[1;32m--> 798\u001b[0m         handle \u001b[38;5;241m=\u001b[39m \u001b[38;5;28;43mopen\u001b[39;49m\u001b[43m(\u001b[49m\u001b[43mhandle\u001b[49m\u001b[43m,\u001b[49m\u001b[43m \u001b[49m\u001b[43mioargs\u001b[49m\u001b[38;5;241;43m.\u001b[39;49m\u001b[43mmode\u001b[49m\u001b[43m)\u001b[49m\n\u001b[0;32m    799\u001b[0m     handles\u001b[38;5;241m.\u001b[39mappend(handle)\n\u001b[0;32m    801\u001b[0m \u001b[38;5;66;03m# Convert BytesIO or file objects passed with an encoding\u001b[39;00m\n",
      "\u001b[1;31mFileNotFoundError\u001b[0m: [Errno 2] No such file or directory: '../dev_data/db\\\\db.xlsx'"
     ]
    }
   ],
   "source": [
    "b = batch.init(name=\"double\", project=\"dev_209\", batch_col=\"b01\")"
   ]
  },
  {
   "cell_type": "code",
   "execution_count": null,
   "id": "53392e1d-be4c-42ab-b171-d4b603a7e4a8",
   "metadata": {},
   "outputs": [],
   "source": []
  }
 ],
 "metadata": {
  "kernelspec": {
   "display_name": "cellpy",
   "language": "python",
   "name": "cellpy"
  },
  "language_info": {
   "codemirror_mode": {
    "name": "ipython",
    "version": 3
   },
   "file_extension": ".py",
   "mimetype": "text/x-python",
   "name": "python",
   "nbconvert_exporter": "python",
   "pygments_lexer": "ipython3",
   "version": "3.10.4"
  }
 },
 "nbformat": 4,
 "nbformat_minor": 5
}
