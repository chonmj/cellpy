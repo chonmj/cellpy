{
 "cells": [
  {
   "cell_type": "markdown",
   "id": "e4aabbfa-668d-473c-a94d-66bea79fc2c0",
   "metadata": {},
   "source": [
    "# Setting additional parameters"
   ]
  },
  {
   "cell_type": "code",
   "execution_count": null,
   "id": "4e2ec189-1e03-4bbc-ab36-08d18deafde6",
   "metadata": {},
   "outputs": [],
   "source": [
    "%load_ext autoreload\n",
    "%autoreload 2"
   ]
  },
  {
   "cell_type": "code",
   "execution_count": null,
   "id": "a9f2e1a4-a138-4ab7-8f2c-be64d8d81b1e",
   "metadata": {},
   "outputs": [],
   "source": [
    "from pathlib import Path\n",
    "\n",
    "import cellpy\n",
    "from cellpy import prms, prmreader\n",
    "from cellpy.utils import batch\n"
   ]
  },
  {
   "cell_type": "code",
   "execution_count": null,
   "id": "21892456-5c30-4fdd-9ee7-173c2b69f481",
   "metadata": {},
   "outputs": [],
   "source": [
    "prmreader._read_prm_file(\"../.cellpy_prms_dev.conf\")"
   ]
  },
  {
   "cell_type": "code",
   "execution_count": null,
   "id": "537fb94c-8530-4ba0-975a-de77975235c2",
   "metadata": {},
   "outputs": [],
   "source": [
    "prmreader.info()"
   ]
  },
  {
   "cell_type": "code",
   "execution_count": null,
   "id": "0672a722-a776-4631-9667-33a5186e3083",
   "metadata": {},
   "outputs": [],
   "source": [
    "b = batch.init(name=\"double\", project=\"dev_209\", batch_col=\"b01\", default_log_level=\"DEBUG\")"
   ]
  },
  {
   "cell_type": "code",
   "execution_count": null,
   "id": "53392e1d-be4c-42ab-b171-d4b603a7e4a8",
   "metadata": {},
   "outputs": [],
   "source": [
    "b.experiment.export_raw = False\n",
    "b.experiment.export_cycles = True\n",
    "b.experiment.export_ica = False"
   ]
  },
  {
   "cell_type": "code",
   "execution_count": null,
   "id": "ae8b1ea7-a6a6-47cb-a220-87ece09c49f7",
   "metadata": {},
   "outputs": [],
   "source": [
    "b.create_journal()"
   ]
  },
  {
   "cell_type": "code",
   "execution_count": null,
   "id": "db06666b-6f93-4d7d-863d-832b656a0800",
   "metadata": {},
   "outputs": [],
   "source": [
    "b.pages"
   ]
  },
  {
   "cell_type": "markdown",
   "id": "ee4cb0a7-32d8-4341-89ce-6f4bf9d4c6cb",
   "metadata": {},
   "source": [
    "# Next\n",
    "\n",
    "- fix so that the \"argument\" column is visible in the pages (seems not to be there now)\n",
    "- try cellspecs\n",
    "- make another set of raw files (for example copy-paste the ones from Marte and rename them)"
   ]
  },
  {
   "cell_type": "code",
   "execution_count": null,
   "id": "81fe4143-6d60-4575-a65d-8a83082d59ba",
   "metadata": {},
   "outputs": [],
   "source": []
  }
 ],
 "metadata": {
  "kernelspec": {
   "display_name": "cellpy",
   "language": "python",
   "name": "cellpy"
  },
  "language_info": {
   "codemirror_mode": {
    "name": "ipython",
    "version": 3
   },
   "file_extension": ".py",
   "mimetype": "text/x-python",
   "name": "python",
   "nbconvert_exporter": "python",
   "pygments_lexer": "ipython3",
   "version": "3.10.4"
  }
 },
 "nbformat": 4,
 "nbformat_minor": 5
}
