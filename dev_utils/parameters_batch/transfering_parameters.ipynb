{
 "cells": [
  {
   "cell_type": "markdown",
   "id": "e4aabbfa-668d-473c-a94d-66bea79fc2c0",
   "metadata": {},
   "source": [
    "# Setting additional parameters"
   ]
  },
  {
   "cell_type": "code",
   "execution_count": null,
   "id": "4e2ec189-1e03-4bbc-ab36-08d18deafde6",
   "metadata": {},
   "outputs": [],
   "source": [
    "%load_ext autoreload\n",
    "%autoreload 2"
   ]
  },
  {
   "cell_type": "code",
   "execution_count": null,
   "id": "a9f2e1a4-a138-4ab7-8f2c-be64d8d81b1e",
   "metadata": {},
   "outputs": [],
   "source": [
    "from pathlib import Path\n",
    "\n",
    "import cellpy\n",
    "from cellpy import prms, prmreader\n",
    "from cellpy.utils import batch\n"
   ]
  },
  {
   "cell_type": "code",
   "execution_count": null,
   "id": "21892456-5c30-4fdd-9ee7-173c2b69f481",
   "metadata": {},
   "outputs": [],
   "source": [
    "prmreader._read_prm_file(\"../.cellpy_prms_dev.conf\")"
   ]
  },
  {
   "cell_type": "code",
   "execution_count": null,
   "id": "537fb94c-8530-4ba0-975a-de77975235c2",
   "metadata": {},
   "outputs": [],
   "source": [
    "prmreader.info()"
   ]
  },
  {
   "cell_type": "code",
   "execution_count": null,
   "id": "0672a722-a776-4631-9667-33a5186e3083",
   "metadata": {},
   "outputs": [],
   "source": [
    "b = batch.init(name=\"double\", project=\"dev_209\", batch_col=\"b01\", default_log_level=\"CRITICAL\")\n",
    "b.experiment.export_raw = False\n",
    "b.experiment.export_cycles = True\n",
    "b.experiment.export_ica = False\n",
    "b.experiment.force_raw = True\n",
    "b.create_journal()"
   ]
  },
  {
   "cell_type": "code",
   "execution_count": null,
   "id": "db06666b-6f93-4d7d-863d-832b656a0800",
   "metadata": {},
   "outputs": [],
   "source": [
    "b.pages"
   ]
  },
  {
   "cell_type": "code",
   "execution_count": null,
   "id": "2e8c28d4-3c7b-4935-8d82-e6a28e9f2e38",
   "metadata": {},
   "outputs": [],
   "source": [
    "b.update()"
   ]
  },
  {
   "cell_type": "markdown",
   "id": "ee4cb0a7-32d8-4341-89ce-6f4bf9d4c6cb",
   "metadata": {
    "tags": []
   },
   "source": [
    "# Next\n",
    "- try cellspecs\n",
    "- test saving journal to xlsx and reaload"
   ]
  },
  {
   "cell_type": "code",
   "execution_count": null,
   "id": "81fe4143-6d60-4575-a65d-8a83082d59ba",
   "metadata": {},
   "outputs": [],
   "source": [
    "b.experiment.errors\n"
   ]
  },
  {
   "cell_type": "code",
   "execution_count": null,
   "id": "c1402d3f-9561-4f4c-a147-c7aa88d5ed98",
   "metadata": {},
   "outputs": [],
   "source": [
    "b.combine_summaries()"
   ]
  },
  {
   "cell_type": "code",
   "execution_count": null,
   "id": "182a7790-60d1-42eb-b0c1-992c291e05e4",
   "metadata": {},
   "outputs": [],
   "source": [
    "b.plot_summaries()"
   ]
  },
  {
   "cell_type": "code",
   "execution_count": null,
   "id": "f5f27095-3711-4b00-85ed-6d61ab17c4e4",
   "metadata": {},
   "outputs": [],
   "source": []
  },
  {
   "cell_type": "code",
   "execution_count": null,
   "id": "9aa7237a-292a-4356-bf41-046a7a59df65",
   "metadata": {},
   "outputs": [],
   "source": []
  }
 ],
 "metadata": {
  "kernelspec": {
   "display_name": "cellpy",
   "language": "python",
   "name": "cellpy"
  },
  "language_info": {
   "codemirror_mode": {
    "name": "ipython",
    "version": 3
   },
   "file_extension": ".py",
   "mimetype": "text/x-python",
   "name": "python",
   "nbconvert_exporter": "python",
   "pygments_lexer": "ipython3",
   "version": "3.10.4"
  }
 },
 "nbformat": 4,
 "nbformat_minor": 5
}
